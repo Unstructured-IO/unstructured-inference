{
 "cells": [
  {
   "cell_type": "code",
   "execution_count": null,
   "metadata": {},
   "outputs": [],
   "source": [
    "import os\n",
    "\n",
    "from unstructured_inference.inference.layout import process_file_with_model\n",
    "from unstructured_inference.visualize import show_plot"
   ]
  },
  {
   "cell_type": "code",
   "execution_count": null,
   "outputs": [],
   "source": [
    "annotation_data_map = {\n",
    "    \"final\": None,\n",
    "    \"extracted\": {\"layout\": {\"color\": \"green\", \"width\": 2}},\n",
    "    \"inferred\": {\"inferred_layout\": {\"color\": \"blue\", \"width\": 2}},\n",
    "    \"ocr\": {\"ocr_layout\": {\"color\": \"yellow\", \"width\": 2}},\n",
    "}"
   ],
   "metadata": {
    "collapsed": false
   }
  },
  {
   "cell_type": "code",
   "execution_count": null,
   "metadata": {},
   "outputs": [],
   "source": [
    "f_path = \"../../sample-docs/loremipsum.pdf\"\n",
    "f_name = os.path.basename(f_path)"
   ]
  },
  {
   "cell_type": "code",
   "execution_count": null,
   "metadata": {},
   "outputs": [],
   "source": [
    "doc = process_file_with_model(\n",
    "    f_path,\n",
    "    model_name=None,\n",
    "    analysis=True,\n",
    ")"
   ]
  },
  {
   "cell_type": "code",
   "execution_count": null,
   "metadata": {},
   "outputs": [],
   "source": [
    "for idx, page in enumerate(doc.pages):\n",
    "    for action_type, action_value in annotation_data_map.items():\n",
    "        img = page.annotate(annotation_data=action_value)\n",
    "        if action_value is None:\n",
    "            n_layout_elements = len(page.elements)\n",
    "        else:\n",
    "            attribute = list(action_value.keys())[0]\n",
    "            n_layout_elements = len(getattr(page, attribute))\n",
    "        print(f\"Filename: {f_name} - Page: {idx+1} - Layout: {action_type} - n_layout_elements: {n_layout_elements}\")\n",
    "        show_plot(img, desired_width=14)"
   ]
  }
 ],
 "metadata": {
  "kernelspec": {
   "display_name": "Python 3 (ipykernel)",
   "language": "python",
   "name": "python3"
  },
  "language_info": {
   "codemirror_mode": {
    "name": "ipython",
    "version": 3
   },
   "file_extension": ".py",
   "mimetype": "text/x-python",
   "name": "python",
   "nbconvert_exporter": "python",
   "pygments_lexer": "ipython3",
   "version": "3.8.15"
  }
 },
 "nbformat": 4,
 "nbformat_minor": 1
}
