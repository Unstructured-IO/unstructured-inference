{
 "cells": [
  {
   "cell_type": "code",
   "execution_count": null,
   "outputs": [],
   "source": [
    "import os\n",
    "import sys\n",
    "\n",
    "from unstructured_inference.constants import AnnotationResult\n",
    "from unstructured_inference.inference.layout import process_file_with_model\n",
    "from unstructured_inference.utils import annotate_layout_elements"
   ],
   "metadata": {
    "collapsed": false
   }
  },
  {
   "cell_type": "code",
   "execution_count": null,
   "outputs": [],
   "source": [
    "output_basedir_path = \"output\""
   ],
   "metadata": {
    "collapsed": false
   }
  },
  {
   "cell_type": "code",
   "execution_count": null,
   "outputs": [],
   "source": [
    "def run(f_path, f_type):\n",
    "    if f_type == \"pdf\":\n",
    "        is_image = False\n",
    "    elif f_type == \"image\":\n",
    "        is_image = True\n",
    "    else:\n",
    "        print(\"Invalid file type.\")\n",
    "        sys.exit(1)\n",
    "\n",
    "    annotation_data_map = {\n",
    "        \"final\": None,\n",
    "    }\n",
    "    actions = [False, True]\n",
    "    for action in actions:\n",
    "        _f_basename = os.path.splitext(os.path.basename(f_path))[0]\n",
    "        output_dir_path = os.path.join(output_basedir_path, f\"{_f_basename}_{file_type}\")\n",
    "        os.makedirs(output_dir_path, exist_ok=True)\n",
    "\n",
    "        f_basename = f\"updated_{_f_basename}\" if action else f\"original_{_f_basename}\"\n",
    "\n",
    "        label = \"Updated Results: \" if action else \"Original Results: \"\n",
    "        print(label)\n",
    "\n",
    "        doc = process_file_with_model(\n",
    "            f_path,\n",
    "            is_image=is_image,\n",
    "            model_name=None,\n",
    "            supplement_with_ocr_elements=action,\n",
    "            analysis=True,\n",
    "        )\n",
    "\n",
    "        annotate_layout_elements(doc, annotation_data_map, output_dir_path, f_basename, AnnotationResult.PLOT)"
   ],
   "metadata": {
    "collapsed": false
   }
  },
  {
   "cell_type": "code",
   "execution_count": null,
   "outputs": [],
   "source": [
    "file_path = \"../../sample-docs/patent-1p.pdf\"\n",
    "file_type = \"pdf\"\n",
    "f_name = os.path.basename(file_path)\n",
    "print(f\"file_name: {f_name} - file_type: {file_type}\")\n",
    "\n",
    "run(file_path, file_type)"
   ],
   "metadata": {
    "collapsed": false
   }
  },
  {
   "cell_type": "code",
   "execution_count": null,
   "outputs": [],
   "source": [
    "file_path = \"../../sample-docs/layout-parser-paper-fast.jpg\"\n",
    "file_type = \"image\"\n",
    "f_name = os.path.basename(file_path)\n",
    "print(f\"file_name: {f_name} - file_type: {file_type}\")\n",
    "\n",
    "run(file_path, file_type)"
   ],
   "metadata": {
    "collapsed": false
   }
  }
 ],
 "metadata": {
  "kernelspec": {
   "display_name": "Python 3",
   "language": "python",
   "name": "python3"
  },
  "language_info": {
   "codemirror_mode": {
    "name": "ipython",
    "version": 2
   },
   "file_extension": ".py",
   "mimetype": "text/x-python",
   "name": "python",
   "nbconvert_exporter": "python",
   "pygments_lexer": "ipython2",
   "version": "2.7.6"
  }
 },
 "nbformat": 4,
 "nbformat_minor": 0
}
